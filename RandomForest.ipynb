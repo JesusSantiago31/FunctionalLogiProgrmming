{
 "cells": [
  {
   "cell_type": "markdown",
   "id": "ee900780",
   "metadata": {},
   "source": [
    "# Caso Práctico: Random Forest\n",
    "\n",
    "En este caso de uso práctico se pretende resolver un problema de detección de malware en dispositivos Android, mediante el analisis de tráfico de red qie genera el dispositivo mediante el uso de Conjuntos de árboles de desición"
   ]
  },
  {
   "cell_type": "markdown",
   "id": "5e397033",
   "metadata": {},
   "source": []
  }
 ],
 "metadata": {
  "language_info": {
   "name": "python"
  }
 },
 "nbformat": 4,
 "nbformat_minor": 5
}
