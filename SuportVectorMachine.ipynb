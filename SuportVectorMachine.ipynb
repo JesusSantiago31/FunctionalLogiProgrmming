{
 "cells": [
  {
   "cell_type": "markdown",
   "id": "67b2ce1b",
   "metadata": {},
   "source": [
    "# Caso Practico: Support Vector Machine (SVM)\n",
    "\n",
    "## Description\n",
    "\n",
    "The Web has long become a major platform for online criminal activities. URLs are used as the main vehicle in this domain. To counter this issues security community focused its efforts on developing techniques for mostly blacklisting of malicious URLs.\n",
    "\n",
    "While successful in protecting users from known malicious domains, this approach only solves part of the problem. The new malicious URLs that sprang up all over the web in masses commonly get a head start in this race. Besides that, Alexa ranked, trusted websites may convey compromised fraudulent URLs called defacement URL.\n",
    "\n",
    "We explore a lightweight approach to detection and categorization of the malicious URLs according to their attack type and show that lexical analysis is effective and efficient for proactive detection of these URLs. We also study the effect of the obfuscation techniques on malicious URLs to figure out the type of obfuscation technique targeted at specific type of malicious URL. We study mainly five different types of URLs:\n",
    "\n",
    "Benign URLs: Over 35,300 benign URLs were collected from Alexa top websites. The domains have been passed through a Heritrix web crawler to extract the URLs. Around half a million unique URLs are crawled initially and then passed to remove duplicate and domain only URLs. Later the extracted URLs have been checked through Virustotal to filter the benign URLs.\n",
    "\n",
    "Spam URLs: Around 12,000 spam URLs were collected from the publicly available WEBSPAM-UK2007 dataset.\n",
    "\n",
    "Phishing URLs: Around 10,000 phishing URLs were taken from OpenPhish which is a repository of active phishing sites.\n",
    "\n",
    "Malware URLs: More than 11,500 URLs related to malware websites were obtained from DNS-BH which is a project that maintain list of malware sites.\n",
    "\n",
    "Defacement URLs: More than 45,450 URLs belong to Defacement URL category. They are Alexa ranked trusted websites hosting fraudulent or hidden URL that contains both malicious web pages.\n",
    "\n",
    "Obfuscation is used as a common method for masking malicious URLs. An attacker intending to evade static analysis on lexical URL features use obfuscation techniques so that malicious URLs become statistically like the benign ones. The obfuscation techniques on URLs is analyzed for the intent of malicious activity in this research. We analyzed mainly Spam, Phishing and Malware URLs to see what kind of obfuscation techniques applied on the URLs.\n",
    "\n",
    "The full research paper outlining the details of the dataset and its underlying principles:\n",
    "\n",
    "Mohammad Saiful Islam Mamun, Mohammad Ahmad Rathore, Arash Habibi Lashkari, Natalia Stakhanova and Ali A. Ghorbani, \"Detecting Malicious URLs Using Lexical Analysis\", Network and System Security, Springer International Publishing, pp. 467-482, 2016.\n",
    "\n",
    "[URL's Malignas](https://www.unb.ca/cic/datasets/url-2016.html)"
   ]
  },
  {
   "cell_type": "code",
   "execution_count": 1,
   "id": "dabd4d58",
   "metadata": {
    "vscode": {
     "languageId": "markdown"
    }
   },
   "outputs": [],
   "source": [
    "## Imports"
   ]
  },
  {
   "cell_type": "code",
   "execution_count": 4,
   "id": "14c79fa2",
   "metadata": {},
   "outputs": [],
   "source": [
    "%matplotlib inline\n",
    "import matplotlib.pyplot as plt\n",
    "import numpy as numpy\n",
    "import pandas as pd\n",
    "from sklearn.model_selection import train_test_split\n",
    "from sklearn.metrics import f1_score\n",
    "from sklearn.preprocessing import StandardScaler, RobustScaler\n",
    "from sklearn.pipeline import Pipeline"
   ]
  },
  {
   "cell_type": "markdown",
   "id": "d64d4367",
   "metadata": {},
   "source": [
    "### Crear una funcion que realice el particionado"
   ]
  },
  {
   "cell_type": "code",
   "execution_count": null,
   "id": "f2bd7b1c",
   "metadata": {},
   "outputs": [],
   "source": [
    "#  Construccion de una funcion que realice el particionado \n",
    "def train_val_test_split(df, rstate=42, shuffle=True, stratify=None):\n",
    "    strat = df[stratify] if stratify else None\n",
    "    train_set, test_set = train_test_split(\n",
    "        df, test_size=0.4, random_state=rstate, shuffle=shuffle, stratify=strat)\n",
    "    strat = test_set[stratify] if stratify else None\n",
    "    val_set, test_set = train_test_split(\n",
    "        test_set, test_size=0.5, random_state=rstate, shuffle=shuffle, stratify=strat)\n",
    "    return (train_set, val_set, test_set)"
   ]
  },
  {
   "cell_type": "markdown",
   "id": "0058beea",
   "metadata": {},
   "source": [
    "#### Representación Gráfica de limite de decisión"
   ]
  },
  {
   "cell_type": "code",
   "execution_count": null,
   "id": "d69c8078",
   "metadata": {},
   "outputs": [],
   "source": [
    "def plot_svc_decision_boundary(svm_clf, xmin, xmax):\n",
    "    w = svm_clf.coef_[0]\n",
    "    b = svm_clf.intercept_[0] # Ecuacion de recepcion\n",
    "\n",
    "    # A the decesion boundary, w0 *x0 + w1 * x1 +b = 0\n",
    "    # => X1 = -w0 / w1 * x0 - b / w1 \n",
    "    x0 = np.linspace(xmin, xmax, 200)\n",
    "    decision_boundary = -w[0] / w[1] * x0 -b / w[1]\n",
    "    margin = 1 / w[1]\n",
    "    gutter_up = decision_boundary + margin  # borde superior de nuestro margen de decision\n",
    "    gutter_down = decision_boundary - margin  # borde inferior de nuestro margen de decision\n",
    "\n",
    "    svs = svm_clf.support_vectors_\n",
    "    plt.scatter(svs[:, 0], svs[:, 1], s=180, facecolors= '#FFAAAA' )\n",
    "    plt.plot(x0, decision_boundary, \"k-\", linewidth = 2)\n",
    "    plt.plot(x0, gutter_up, \"k--\", linewidth = 2)\n",
    "    plt.plot(x0, gutter_down, \"k--\", linewidth = 2)\n"
   ]
  },
  {
   "cell_type": "markdown",
   "id": "e1b37d74",
   "metadata": {},
   "source": [
    "## 1.- Lectura del Dataset"
   ]
  },
  {
   "cell_type": "code",
   "execution_count": null,
   "id": "b7325fe2",
   "metadata": {},
   "outputs": [],
   "source": [
    "df = pd.read_csv(\"datasets/datasets/FinalDataset/Phishing.csv\")"
   ]
  },
  {
   "cell_type": "markdown",
   "id": "6c3a543a",
   "metadata": {},
   "source": [
    "# 2.- Visualización de DataSet"
   ]
  },
  {
   "cell_type": "code",
   "execution_count": null,
   "id": "f9ea4c9d",
   "metadata": {},
   "outputs": [],
   "source": [
    "df.head(10)"
   ]
  },
  {
   "cell_type": "code",
   "execution_count": null,
   "id": "81dbf460",
   "metadata": {},
   "outputs": [],
   "source": [
    "df.describe()"
   ]
  },
  {
   "cell_type": "code",
   "execution_count": null,
   "id": "c6224860",
   "metadata": {},
   "outputs": [],
   "source": [
    "df.info"
   ]
  },
  {
   "cell_type": "code",
   "execution_count": null,
   "id": "06e804c9",
   "metadata": {},
   "outputs": [],
   "source": [
    "df[\"URL_Type_obf_Type\"].value_counts()"
   ]
  },
  {
   "cell_type": "code",
   "execution_count": null,
   "id": "35678b02",
   "metadata": {},
   "outputs": [],
   "source": [
    "# Comprobar si existen valores nulos\n",
    "is_null = df.isna().any()\n",
    "is_null[is_null]\n"
   ]
  },
  {
   "cell_type": "code",
   "execution_count": null,
   "id": "94c6e7b7",
   "metadata": {},
   "outputs": [],
   "source": [
    "# Comprobar si existen valores infinitos\n",
    "is_inf = df.isin([np.inf, -np.inf]).any()\n",
    "is_inf[is_inf]"
   ]
  },
  {
   "cell_type": "code",
   "execution_count": null,
   "id": "606cc3e2",
   "metadata": {},
   "outputs": [],
   "source": [
    "# Representaciń gráfica de dos carácteristicas\n",
    "plt.figure(figsize=(12,6))\n",
    "\n",
    "plt.scatter(df[\"domainUrlRatio\"][df[\"URL_Type_obf_Type\"] == \"phishing\"], df[\"domainlength\"][df[\"URL_Type_obf_Type\"] == \"phishing\"], c=\"r\", marker=\".\")\n",
    "plt.scatter(df[\"domainUrlRatio\"][df[\"URL_Type_obf_Type\"] == \"benign\"], df[\"domainlength\"][df[\"URL_Type_obf_Type\"] == \"benign\"], c=\"g\", marker=\"x\") \n",
    "plt.xlabel(\"domainUrlratio\", fontsize=14)\n",
    "plt.ylabel(\"domainlength\", fontsize=14)\n",
    "plt.show()"
   ]
  },
  {
   "cell_type": "markdown",
   "id": "8dc90f62",
   "metadata": {},
   "source": [
    "## 3.- División del Dataset"
   ]
  },
  {
   "cell_type": "code",
   "execution_count": null,
   "id": "9b76fa1f",
   "metadata": {},
   "outputs": [],
   "source": [
    "# División del dataset \n",
    "train_set, val_set, test_set = train_val_test_split(df)"
   ]
  },
  {
   "cell_type": "markdown",
   "id": "4786cb68",
   "metadata": {},
   "source": [
    "X_train = train_set.drop(\"URL_Type_obf_Type\", axis=1)\n",
    "y_train = train_set[\"URL_Type_obf_Type\"].copy()\n",
    "\n",
    "X_val = val_set.drop(\"URL_Type_obf_Type\", axis=1)\n",
    "y_val = val_set[\"URL_Type_obf_Type\"].copy()\n",
    "\n",
    "X_test = test_set.drop(\"URL_Type_obf_Type\", axis=1)\n",
    "y_test = test_set[\"URL_Type_obf_Type\"].copy()\n"
   ]
  },
  {
   "cell_type": "markdown",
   "id": "0e98c7b2",
   "metadata": {},
   "source": [
    "## 4.- Preparación del dataset "
   ]
  },
  {
   "cell_type": "code",
   "execution_count": null,
   "id": "1e9dd279",
   "metadata": {},
   "outputs": [],
   "source": [
    "# Eliminar los atributos que tienen valores infinitos\n",
    "X_train = X_train.drop(\"argPathRatio\", axis=1)\n",
    "X_val = X_val.drop(\"argPathRatio\", axis=1)\n",
    "X_test = X_test.drop(\"argPathRatio\", axis=1)"
   ]
  },
  {
   "cell_type": "code",
   "execution_count": null,
   "id": "78fd98b6",
   "metadata": {},
   "outputs": [],
   "source": [
    "# Rellenar los valores nulos con la mediana\n",
    "from sklearn.impute import SimpleImputer\n",
    "imputer = SimpleImputer(strategy=\"median\")"
   ]
  },
  {
   "cell_type": "code",
   "execution_count": null,
   "id": "15aca200",
   "metadata": {},
   "outputs": [],
   "source": [
    "# Rellenar los valores nulos\n",
    "X_train_prep = imputer.fit_transform(X_train)\n",
    "X_val_prep = imputer.fit_transform(X_val)\n",
    "X_test_prep = imputer.fit_transform(X_test)"
   ]
  },
  {
   "cell_type": "code",
   "execution_count": null,
   "id": "bb5d4f2b",
   "metadata": {},
   "outputs": [],
   "source": [
    "# Transformar el resultado en un DataFrame de Pandas\n",
    "# Transformar el resultado a un DataFrame de pandas \n",
    "X_train_prep = pd.DataFrame(X_train_prep, columns=X_train.columns, index=y_train.index)\n",
    "X_val_prep = pd.DataFrame(X_val_prep, columns=X_val.columns, index=y_val.index)\n",
    "X_test_prep = pd.DataFrame(X_test_prep, columns=X_test.columns, index=y_test.index)"
   ]
  },
  {
   "cell_type": "code",
   "execution_count": null,
   "id": "9449ee76",
   "metadata": {},
   "outputs": [],
   "source": [
    "X_train_prep.head(10)"
   ]
  },
  {
   "cell_type": "code",
   "execution_count": null,
   "id": "96628ffd",
   "metadata": {},
   "outputs": [],
   "source": [
    "# Comprobar si existen valores nulos en el DataSet de enterenamiento\n",
    "is_null = X_train_prep.isna().any()\n",
    "is_null[is_null]"
   ]
  },
  {
   "cell_type": "markdown",
   "id": "3f1cea17",
   "metadata": {},
   "source": [
    "### SVM: Kernel lineal\n",
    "\n",
    "#### 5.1 DataSet reducido\n",
    "\n",
    "Entrenamiento del algoirtmo con un dataset reducido"
   ]
  },
  {
   "cell_type": "code",
   "execution_count": null,
   "id": "5eb9d365",
   "metadata": {},
   "outputs": [],
   "source": [
    "# Reduccion del Dataset para representarlo gráficamente\n",
    "X_train_reduced = X_train_prep[[\"domainUrlRatio\", \"domainlength\"]].copy()\n",
    "X_val_reduced = X_val_prep[[\"domainUrlRatio\", \"domainlength\"]].copy()"
   ]
  },
  {
   "cell_type": "code",
   "execution_count": null,
   "id": "56e8dfa8",
   "metadata": {},
   "outputs": [],
   "source": [
    "X_train_reduced"
   ]
  },
  {
   "cell_type": "code",
   "execution_count": null,
   "id": "a0111e15",
   "metadata": {},
   "outputs": [],
   "source": [
    "from sklearn.svm import SVC\n",
    "\n",
    "# SVM Large Margin Classification\n",
    "svm_clf = SVC(kernel=\"linear\", C=50) # Factor de regularizacion # Se utilza para clasificadores lineales (spam o no) # 50: binario 1 o 0\n",
    "svm_clf.fit(X_train_reduced, y_train)"
   ]
  },
  {
   "cell_type": "markdown",
   "id": "c66f7a36",
   "metadata": {},
   "source": [
    "# Representación del limite de deición "
   ]
  },
  {
   "cell_type": "code",
   "execution_count": null,
   "id": "f7ee038c",
   "metadata": {},
   "outputs": [],
   "source": [
    "def plot_svc_decision_boundary(svm_clf, xmin, xmax):\n",
    "    w = svm_clf.coef_[0]\n",
    "    b = svm_clf.intercept_[0]\n",
    "    x0 = np.linspace(xmin, xmax, 200)\n",
    "    decision_boundary = -w[0]/w[1] * x0 -b/w[1]\n",
    "\n",
    "    margin = 1 / w[1]\n",
    "    gutter_up = decision_boundary + margin\n",
    "    gutter_down = decision_boundary - margin\n",
    "\n",
    "    svs = svm_clf.support_vectors_\n",
    "    plt.scatter(svs[:, 0], svs[:, 1], s = 180, facecolors = '#FFAAAA')\n",
    "    plt.plot(x0, decision_boundary, \"k-\", linewidth=2)\n",
    "    plt.plot(x0, gutter_up, \"k--\", linewidth=2)\n",
    "    plt.plot(x0, gutter_down, \"k--\", linewidth=2)"
   ]
  },
  {
   "cell_type": "code",
   "execution_count": null,
   "id": "dc137762",
   "metadata": {},
   "outputs": [],
   "source": [
    "plt.figure(figsize = (12,6))\n",
    "plt.plot(X_train_reduced.values[:, 0][y_train==\"phishing\"], X_train_reduced.values[:, 1] [y_train==\"phishing\"],\"g^\")\n",
    "plt.plot(X_train_reduced.values[:, 0][y_train==\"benign\"], X_train_reduced.values[:, 1] [y_train==\"benign\"],\"bs\")\n",
    "plot_svc_decision_boundary(svm_clf, 0,1)\n",
    "plt.title(\"$C = {}$\".format(svm_clf.C), fontsize=16)\n",
    "plt.axis([0, 1, -100, 250])\n",
    "plt.xlabel(\"domainUrlRatio\", fontsize=13)\n",
    "plt.ylabel(\"domainlength\", fontsize=13)\n",
    "plt.show()"
   ]
  },
  {
   "cell_type": "markdown",
   "id": "cd3f39d4",
   "metadata": {},
   "source": [
    "#### Prediccion con un Dataset Reducido"
   ]
  },
  {
   "cell_type": "code",
   "execution_count": null,
   "id": "00838882",
   "metadata": {},
   "outputs": [],
   "source": [
    "y_pred = svm_clf.predict(X_val_reduced)"
   ]
  },
  {
   "cell_type": "code",
   "execution_count": null,
   "id": "69294792",
   "metadata": {},
   "outputs": [],
   "source": [
    "print(\"F1 Score: \", f1_score(y_pred, y_val, pos_label='phishing'))"
   ]
  },
  {
   "cell_type": "markdown",
   "id": "7972c891",
   "metadata": {},
   "source": [
    "Como se verá más adelante en determinados kernels es muy importante escalar el Dataset. En este caso, para el kernel lineal no es tan relevante, aunque es **\"posible\"**, que proporcione mejores recultados"
   ]
  },
  {
   "cell_type": "code",
   "execution_count": null,
   "id": "231f1e45",
   "metadata": {},
   "outputs": [],
   "source": [
    "svm_clf_sc = Pipeline([\n",
    "        (\"scaler\", RobustScaler()),\n",
    "        (\"linear_svc\", SVC(kernel = \"linear\", C=50)),    \n",
    "    ])\n",
    "svm_clf_sc.fit(X_train_reduced, y_train)"
   ]
  },
  {
   "cell_type": "code",
   "execution_count": null,
   "id": "c25ac2a9",
   "metadata": {},
   "outputs": [],
   "source": [
    "# Hacer lo mismo pero con un kernel reducido\n",
    "y_pred = svm_clf_sc.predict(X_val_reduced)\n",
    "print(\"F1 Score:\", f1_score(y_pred, y_val, pos_label = 'phishing'))"
   ]
  },
  {
   "cell_type": "markdown",
   "id": "c91c5c61",
   "metadata": {},
   "source": [
    "#### 5.2 DataSet completo"
   ]
  },
  {
   "cell_type": "code",
   "execution_count": null,
   "id": "58fec9fd",
   "metadata": {},
   "outputs": [],
   "source": [
    "# Entrenamiento con todo el dataset completo\n",
    "from sklearn.svm import SVC\n",
    "# Reglas de Reuso = escalar\n",
    "svm_clf = SVC(kernel=\"linear\", C=1)\n",
    "svm_clf.fit(X_train_prep, y_train)"
   ]
  },
  {
   "cell_type": "code",
   "execution_count": null,
   "id": "584a1ab7",
   "metadata": {},
   "outputs": [],
   "source": [
    "# Hacer lo mismo pero con un kernel reducido\n",
    "y_pred = svm_clf.predict(X_val_prep)\n",
    "print(\"F1 Score:\", f1_score(y_pred, y_val, pos_label = 'phishing'))"
   ]
  },
  {
   "cell_type": "markdown",
   "id": "4f8b7f61",
   "metadata": {},
   "source": [
    "### 6.- SVM: Kernel no lineal"
   ]
  },
  {
   "cell_type": "markdown",
   "id": "d1e6e0c8",
   "metadata": {},
   "source": [
    "#### 6.- Polynomial Kernel (I)\n",
    "Entrenamiento del algoritmo con un DataSet reducido "
   ]
  },
  {
   "cell_type": "code",
   "execution_count": null,
   "id": "086bcbfa",
   "metadata": {},
   "outputs": [],
   "source": [
    "# Para representar el límite de decisión se tiene que pasar la variable objetivo a numérica.\n",
    "y_train_num = y_train.factorize()[0]\n",
    "y_val_num = y_val.factorize()[0]"
   ]
  },
  {
   "cell_type": "code",
   "execution_count": null,
   "id": "ef5b1eb8",
   "metadata": {},
   "outputs": [],
   "source": [
    "from sklearn.datasets import make_moons # Genera dos clases que entrelazan como dos medias lunas\n",
    "from sklearn.preprocessing import PolynomialFeatures # TLU UMBRAL (x*w)+b\n",
    "from sklearn.svm import LinearSVC  \n",
    "# SEPARABILIDAD # LOs datos que esten por debajo del umbral son inhibidos(falsos positivos) y los que pase el umbral, son exitados\n",
    "# Aprendizaje SUPERVIZADO\n",
    "polynomial_svm_clf = Pipeline([\n",
    "    (\"poly_features\", PolynomialFeatures(degree=3)),\n",
    "    (\"scaler\", StandardScaler()),\n",
    "    (\"svm_clf\", LinearSVC(C=20, loss=\"hinge\", random_state= 42, max_iter = 100000)) # C es la separabilidad # hinge =  funcion de perdida\n",
    "    ])\n",
    "\n",
    "polynomial_svm_clf.fit(X_train_reduced, y_train_num)\n"
   ]
  },
  {
   "cell_type": "markdown",
   "id": "10621a81",
   "metadata": {},
   "source": [
    "### Representación del límite de decisión "
   ]
  },
  {
   "cell_type": "markdown",
   "id": "4c6e4d91",
   "metadata": {},
   "source": [
    "def plot_dataset(X, y,):\n",
    "    plt.plot(X[:,0][y==1], X[:,1][y==1], \"g.\")\n",
    "    plt.plot(X[:,0][y==0], X[:,1][y==0], \"b.\")"
   ]
  },
  {
   "cell_type": "code",
   "execution_count": null,
   "id": "8bfe9a56",
   "metadata": {},
   "outputs": [],
   "source": [
    "def plot_predictions(clf, axes):\n",
    "    x0s = np.linspace(axes[0], axes[1], 100)\n",
    "    x1s = np.linspace(axes[2], axes[3], 100)\n",
    "    x0, x1 = np.meshgrid(x0s, x1s)\n",
    "    X = np.c_[x0.ravel(), x1.ravel()] # Redimensionar al vector original\n",
    "    y_pred = clf.predict(X).reshape(x0.shape)\n",
    "    y_decision = clf.decision_function(X).reshape(x0.shape)\n",
    "    plt.contourf(x0, x1, y_pred, cmap=plt.cm.brg, alpha=0.2) # Crear un mapa de contornos para visualizar datos en dos dimensiones\n",
    "    plt.contourf(x0, x1, y_decision, cmap=plt.cm.brg, alpha=0.2) # Crear un mapa de contornos para visualizar datos en dos dimensiones\n",
    "\n",
    "fig, axes = plt.subplots(ncols=2, figsize=(15,5), sharey=True)\n",
    "plt.sca(axes[0])\n",
    "plot_dataset(X_train_reduced.values, y_train_num)\n",
    "plot_predictions(polynomial_svm_clf, [0, 1, -100, 250])\n",
    "plt.xlabel(\"domainUrlRatio\", fontsize=11)\n",
    "plt.ylabel(\"domainlength\", fontsize=11)\n",
    "plt.sca(axes[1])\n",
    "plot_predictions(polynomial_svm_clf,[0, 1, -100, 250])\n",
    "plt.xlabel(\"domainUrlRatio\", fontsize=11)\n",
    "plt.ylabel(\"domainlength\", fontsize=11)\n",
    "plt.show()\n",
    "\n"
   ]
  },
  {
   "cell_type": "markdown",
   "id": "7395249d",
   "metadata": {},
   "source": [
    "#### Prediccion con el Dataset Reducido"
   ]
  },
  {
   "cell_type": "code",
   "execution_count": null,
   "id": "c04c3bb5",
   "metadata": {},
   "outputs": [],
   "source": [
    "svm_clf = SVC(kernel=\"poly\", degree = 3, coef0 = 10, C=20)\n",
    "\n",
    "svm_clf.fit(X_train_prep, y_train_num)"
   ]
  },
  {
   "cell_type": "code",
   "execution_count": null,
   "id": "863dafce",
   "metadata": {},
   "outputs": [],
   "source": [
    "y_pred = polynomial_svm_clf.predict(X_val_reduced)"
   ]
  },
  {
   "cell_type": "code",
   "execution_count": null,
   "id": "0425a626",
   "metadata": {},
   "outputs": [],
   "source": [
    "print(\"F1 Score: \", f1_score(y_pred, y_val_num))"
   ]
  }
 ],
 "metadata": {
  "kernelspec": {
   "display_name": "Simulacion",
   "language": "python",
   "name": "python3"
  },
  "language_info": {
   "codemirror_mode": {
    "name": "ipython",
    "version": 3
   },
   "file_extension": ".py",
   "mimetype": "text/x-python",
   "name": "python",
   "nbconvert_exporter": "python",
   "pygments_lexer": "ipython3",
   "version": "3.9.19"
  }
 },
 "nbformat": 4,
 "nbformat_minor": 5
}
